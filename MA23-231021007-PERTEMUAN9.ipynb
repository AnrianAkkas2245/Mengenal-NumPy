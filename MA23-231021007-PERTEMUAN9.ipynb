{
 "cells": [
  {
   "cell_type": "code",
   "execution_count": 15,
   "metadata": {},
   "outputs": [
    {
     "data": {
      "text/plain": [
       "(1, 6)"
      ]
     },
     "execution_count": 15,
     "metadata": {},
     "output_type": "execute_result"
    }
   ],
   "source": [
    "# NumPy: dasar-dasar untuk pemula\n",
    "# Menginstall NumPy\n",
    "# conda install numpy\n",
    "# atau \n",
    "# pip install numpy\n",
    "\n",
    "# Bagaimana cara mengimpor NumPy\n",
    "\n",
    "import numpy as py\n",
    "\n",
    "# Membaca Kode contoh\n",
    "a = np.arange(6)\n",
    "a2 = a[np.newaxis, :]\n",
    "a2.shape"
   ]
  },
  {
   "cell_type": "code",
   "execution_count": 16,
   "metadata": {},
   "outputs": [
    {
     "name": "stdout",
     "output_type": "stream",
     "text": [
      "[1 2 3 4]\n"
     ]
    }
   ],
   "source": [
    "import numpy as np\n",
    "#Salah satu cara kita menginisialisasi array NumPy adalah dari daftar Python, menggunakan daftar bersarang untuk\n",
    "# data dua dimensi atau lebih tinggi.\n",
    "# Misalnya:\n",
    "a = np.array([1, 2, 3, 4, 5, 6])\n",
    "# atau\n",
    "a = np.array([[1, 2, 3, 4], [5, 6, 7, 8], [9, 10, 11, 12]])\n",
    "print(a[0])"
   ]
  },
  {
   "cell_type": "code",
   "execution_count": 22,
   "metadata": {},
   "outputs": [
    {
     "name": "stdout",
     "output_type": "stream",
     "text": [
      "[0. 0.]\n",
      "[1. 1.]\n",
      "[1. 1.]\n",
      "[0 1 2 3]\n",
      "[2 4 6 8]\n",
      "[ 0.   2.5  5.   7.5 10. ]\n"
     ]
    }
   ],
   "source": [
    "# cara membuat array dasar\n",
    "# Bagian ini mencakup np.array(), np.zeros(), np.ones(), np.empty(), np.arange(), np.linspace(), dtype\n",
    "import numpy as np\n",
    "a = np.array([1, 2, 3])\n",
    "#Selain membuat array dari rangkaian elemen, Anda dapat dengan mudah membuat array terisi dengan 0\n",
    "print(np.zeros(2))\n",
    "\n",
    "#Atau array yang diisi dengan 1:\n",
    "print(np.ones(2))\n",
    "\n",
    "# Atau bahkan array kosong! Fungsi kosong membuat array yang konten awalnya acak dan bergantung pada keadaan\n",
    "# memori. Alasan menggunakan kosong di atas nol (atau yang serupa) adalah kecepatan - pastikan untuk mengisi setiap\n",
    "# elemen setelahnya!\n",
    "\n",
    "print(np.empty(2))\n",
    "\n",
    "#Anda dapat membuat array dengan berbagai elemen:\n",
    "print(np.arange(4))\n",
    "\n",
    "#Dan bahkan array yang berisi rentang interval yang berjarak sama. Untuk melakukan ini, Anda akan menentukan\n",
    "# angka pertama, angka terakhir, dan ukuran langkah.\n",
    "\n",
    "print(np.arange(2, 9, 2))\n",
    "\n",
    "#Anda juga dapat menggunakan np.linspace() untuk membuat array dengan nilai yang diberi jarak linier dalam interval\n",
    "# tertentu:\n",
    "print(np.linspace(0, 10, num=5))\n",
    "\n",
    "\n"
   ]
  },
  {
   "cell_type": "code",
   "execution_count": 31,
   "metadata": {},
   "outputs": [
    {
     "data": {
      "text/plain": [
       "array([1, 1], dtype=int64)"
      ]
     },
     "execution_count": 31,
     "metadata": {},
     "output_type": "execute_result"
    }
   ],
   "source": [
    "#Menentukan tipe data anda\n",
    "#Meskipun tipe data defaultnya adalah floating point (np.float64), Anda dapat secara eksplisit menentukan tipe data\n",
    "# mana yang Anda inginkan menggunakan kata kunci dtype .\n",
    "\n",
    "x = np.ones(2, dtype=np.int64)\n",
    "x\n"
   ]
  },
  {
   "cell_type": "code",
   "execution_count": 32,
   "metadata": {},
   "outputs": [
    {
     "data": {
      "text/plain": [
       "array([1, 2, 3, 4, 5, 6, 7, 8])"
      ]
     },
     "execution_count": 32,
     "metadata": {},
     "output_type": "execute_result"
    }
   ],
   "source": [
    "#Menambah, menghapus, dan mengurutkan elemen\n",
    "#Bagian ini mencakup np.sort(), np.concatenate()\n",
    "#Mengurutkan elemen itu mudah dengan np.sort(). Anda dapat menentukan sumbu, jenis, dan urutan\n",
    "# saat memanggil fungsi.\n",
    "\n",
    "arr = np.array([2, 1, 5, 3, 7, 4, 6, 8])\n",
    "np.sort(arr)\n",
    "\n"
   ]
  },
  {
   "cell_type": "code",
   "execution_count": 36,
   "metadata": {},
   "outputs": [
    {
     "data": {
      "text/plain": [
       "array([[1, 2],\n",
       "       [3, 4],\n",
       "       [5, 6]])"
      ]
     },
     "execution_count": 36,
     "metadata": {},
     "output_type": "execute_result"
    }
   ],
   "source": [
    "# menggabungkan elemen\n",
    "a = np.array([1, 2, 3, 4])\n",
    "b = np.array([5, 6, 7, 8])\n",
    "np.concatenate((a, b))\n",
    "\n",
    "x = np.array([[1, 2], [3, 4]])\n",
    "y = np.array([[5, 6]])\n",
    "np.concatenate((x, y), axis=0)\n"
   ]
  },
  {
   "cell_type": "code",
   "execution_count": 40,
   "metadata": {},
   "outputs": [
    {
     "name": "stdout",
     "output_type": "stream",
     "text": [
      "3\n",
      "24\n",
      "(3, 2, 4)\n"
     ]
    }
   ],
   "source": [
    "# Bagaimana cara mengetahui bentuk dan ukuran array?\n",
    "# Bagian ini mencakup ndarray.ndim, ndarray.size, ndarray.shape\n",
    "\n",
    "#contoh:\n",
    "array_example = np.array([[[0, 1, 2, 3], [4, 5, 6, 7]],\n",
    "                          [[0, 1, 2, 3], [4, 5, 6, 7]],\n",
    "                          [[0 ,1 ,2, 3],[4, 5, 6, 7]]])\n",
    "\n",
    "#Untuk mencari jumlah dimensi array, jalankan:\n",
    "print(array_example.ndim)\n",
    "\n",
    "# Untuk menemukan jumlah total elemen dalam array, jalankan:\n",
    "print(array_example.size)\n",
    "\n",
    "# Dan untuk menemukan bentuk array Anda, jalankan:\n",
    "print(array_example.shape)\n",
    "\n"
   ]
  },
  {
   "cell_type": "code",
   "execution_count": 43,
   "metadata": {},
   "outputs": [
    {
     "name": "stdout",
     "output_type": "stream",
     "text": [
      "[0 1 2 3 4 5]\n",
      "[[0 1]\n",
      " [2 3]\n",
      " [4 5]]\n"
     ]
    },
    {
     "data": {
      "text/plain": [
       "array([[0, 1, 2, 3, 4, 5]])"
      ]
     },
     "execution_count": 43,
     "metadata": {},
     "output_type": "execute_result"
    }
   ],
   "source": [
    "# Membentuk ulang Array\n",
    "# Bagian ini mencakup arr.reshape()\n",
    "\n",
    "a = np.arange(6)\n",
    "print(a)\n",
    "# Anda dapat menggunakan reshape() untuk membentuk ulang array Anda. Misalnya, Anda bisa membentuk ulang larik\n",
    "# ini menjadi larik dengan tiga baris dan dua kolom:\n",
    "b = a.reshape(3, 2)\n",
    "print(b)\n",
    "\n",
    "# Dengan np.reshape, Anda dapat menentukan beberapa parameter opsional:\n",
    "np.reshape(a, newshape=(1, 6), order='C')\n",
    "\n",
    "#a adalah array yang akan dibentuk ulang.\n"
   ]
  },
  {
   "cell_type": "code",
   "execution_count": 62,
   "metadata": {},
   "outputs": [
    {
     "name": "stdout",
     "output_type": "stream",
     "text": [
      "(6,)\n",
      "(1, 6)\n",
      "(1, 6)\n",
      "(6, 1)\n",
      "(6,)\n",
      "(6, 1)\n",
      "(1, 6)\n",
      "2\n",
      "[1 2]\n",
      "[2 3]\n",
      "[2 3]\n",
      "[1 2 3 4]\n",
      "[ 5  6  7  8  9 10 11 12]\n",
      "[ 2  4  6  8 10 12]\n",
      "[ 3  4  5  6  7  8  9 10]\n",
      "[[False False False False]\n",
      " [ True  True  True  True]\n",
      " [ True  True  True  True]]\n",
      "(array([0, 0, 0, 0], dtype=int64), array([0, 1, 2, 3], dtype=int64))\n",
      "(0, 0)\n",
      "(0, 1)\n",
      "(0, 2)\n",
      "(0, 3)\n",
      "[1 2 3 4]\n",
      "(array([], dtype=int64), array([], dtype=int64))\n"
     ]
    }
   ],
   "source": [
    "#Cara mengubah array 1D menjadi array 2D (cara\n",
    "# menambahkan sumbu baru ke array)\n",
    "#Bagian ini mencakup np.newaxis, np.expand_dims\n",
    "\n",
    "a1 = np.array([1, 2, 3, 4, 5, 6])\n",
    "print(a1.shape)\n",
    "\n",
    "# Anda dapat menggunakan np.newaxis untuk menambahkan sumbu baru:\n",
    "a2 = a1[np.newaxis, :]\n",
    "print(a2.shape)\n",
    "\n",
    "# Anda dapat secara eksplisit mengonversi array 1D dengan vektor baris atau vektor kolom menggunakan\n",
    "# np.newaxis. Misalnya, Anda dapat mengonversi array 1D menjadi vektor baris dengan menyisipkan sumbu\n",
    "# di sepanjang dimensi pertama:\n",
    "\n",
    "row_vector = a1[np.newaxis, :]\n",
    "print(row_vector.shape)\n",
    "\n",
    "# Atau, untuk vektor kolom, Anda bisa menyisipkan sumbu sepanjang dimensi kedua:\n",
    "\n",
    "col_vector = a1[:, np.newaxis]\n",
    "print(col_vector.shape)\n",
    "\n",
    "# Anda juga dapat memperluas array dengan menyisipkan sumbu baru pada posisi tertentu\n",
    "# dengan np.expand_dims.\n",
    "\n",
    "a = np.array([1, 2, 3, 4, 5, 6])\n",
    "print(a.shape)\n",
    "\n",
    "# Anda dapat menggunakan np.expand_dims untuk menambahkan sumbu pada posisi indeks 1 dengan:\n",
    "b = np.expand_dims(a, axis=1)\n",
    "print(b.shape)\n",
    "\n",
    "# Anda dapat menambahkan sumbu pada posisi indeks 0 dengan:\n",
    "c = np.expand_dims(a, axis=0)\n",
    "print(c.shape)\n",
    "\n",
    "# Mengindeks dan mengiris\n",
    "# Anda dapat mengindeks dan mengiris array NumPy dengan cara yang sama seperti Anda mengiris daftar Python.\n",
    "\n",
    "data = np.array([1, 2, 3])\n",
    "print(data[1])\n",
    "print(data[0:2])\n",
    "print(data[1:])\n",
    "print(data[-2:])\n",
    "\n",
    "# Jika Anda ingin memilih nilai dari array yang memenuhi kondisi tertentu, caranya mudah dengan NumPy.\n",
    "a = np.array([[1 , 2, 3, 4], [5, 6, 7, 8], [9, 10, 11, 12]])\n",
    "\n",
    "# Anda dapat dengan mudah mencetak semua nilai dalam array yang kurang dari 5.\n",
    "print(a[a < 5])\n",
    "\n",
    "# Anda juga dapat memilih, misalnya, angka yang sama dengan atau lebih besar dari 5, dan menggunakan kondisi\n",
    "# tersebut untuk mengindeks array\n",
    "five_up = (a >= 5)\n",
    "print(a[five_up])\n",
    "\n",
    "# Anda dapat memilih elemen yang habis dibagi 2:\n",
    "divisible_by_2 = a[a%2==0]\n",
    "print(divisible_by_2)\n",
    "\n",
    "# Atau Anda dapat memilih elemen yang memenuhi dua kondisi menggunakan & dan | operator:\n",
    "c = a[(a > 2) & (a < 11)]\n",
    "print(c)\n",
    "\n",
    "# Anda juga dapat menggunakan operator logika & dan | untuk mengembalikan nilai boolean yang menentukan\n",
    "# apakah nilai dalam array memenuhi kondisi tertentu atau tidak. Ini bisa berguna dengan array yang berisi\n",
    "# nama atau nilai kategorikal lainnya.\n",
    "\n",
    "five_up = (a > 5) | (a == 5)\n",
    "print(five_up)\n",
    "\n",
    "\n",
    "# Anda juga dapat menggunakan np.nonzero() untuk memilih elemen atau indeks dari array.\n",
    "a3 = np.array([[1, 2, 3, 4], [5, 6, 7, 8], [9, 10, 11, 12]])\n",
    "# Anda dapat menggunakan np.nonzero() untuk mencetak indeks elemen yang, misalnya, kurang dari 5:\n",
    "b3 = np.nonzero(a < 5)\n",
    "print(b3)\n",
    "\n",
    "# Jika Anda ingin membuat daftar koordinat tempat elemen berada, Anda dapat meng-zip array,\n",
    "# mengulangi daftar koordinat, dan mencetaknya. Misalnya:\n",
    "list_of_coordinates= list(zip(b3[0], b3[1]))\n",
    "for coord in list_of_coordinates:\n",
    "  print(coord)\n",
    "\n",
    "# Anda juga dapat menggunakan np.nonzero() untuk mencetak elemen dalam array yang kurang dari 5 dengan:\n",
    "print(a3[b3])\n",
    "\n",
    "# Jika elemen yang Anda cari tidak ada dalam array, maka array indeks yang dikembalikan akan\n",
    "# kosong. Misalnya:\n",
    "not_there = np.nonzero(a3 == 42)\n",
    "print(not_there)\n",
    "\n"
   ]
  },
  {
   "cell_type": "code",
   "execution_count": 65,
   "metadata": {},
   "outputs": [
    {
     "name": "stdout",
     "output_type": "stream",
     "text": [
      "[4 5 6 7 8]\n",
      "[[1 1]\n",
      " [2 2]\n",
      " [3 3]\n",
      " [4 4]]\n",
      "[[1 1 3 3]\n",
      " [2 2 4 4]]\n",
      "[[ 1  2  3  4  5  6  7  8  9 10 11 12]\n",
      " [13 14 15 16 17 18 19 20 21 22 23 24]]\n",
      "[array([[ 1,  2,  3,  4],\n",
      "       [13, 14, 15, 16]]), array([[ 5,  6,  7,  8],\n",
      "       [17, 18, 19, 20]]), array([[ 9, 10, 11, 12],\n",
      "       [21, 22, 23, 24]])]\n",
      "[array([[ 1,  2,  3],\n",
      "       [13, 14, 15]]), array([[ 4],\n",
      "       [16]]), array([[ 5,  6,  7,  8,  9, 10, 11, 12],\n",
      "       [17, 18, 19, 20, 21, 22, 23, 24]])]\n"
     ]
    }
   ],
   "source": [
    "# Cara membuat array dari data yang ada\n",
    "# Bagian ini mencakup pemotongan dan pengindeksan, np.vstack(), np.hstack(), np.hsplit(), .view(),\n",
    "# copy()\n",
    "\n",
    "a = np.array([1, 2, 3, 4, 5, 6, 7, 8, 9, 10])\n",
    "\n",
    "# Anda dapat membuat array baru dari suatu bagian array kapan saja dengan menentukan di mana\n",
    "# Anda ingin mengiris array Anda.\n",
    "\n",
    "arr1 = a[3:8]\n",
    "print(arr1)\n",
    "\n",
    "# Anda juga dapat menumpuk dua array yang ada, baik secara vertikal maupun horizontal. Katakanlah Anda memiliki\n",
    "# dua array, a1 dan a2:\n",
    "\n",
    "a1 = np.array([[1, 1], \n",
    "               [2, 2]])\n",
    "a2 = np.array([[3, 3], \n",
    "               [4, 4]])\n",
    "\n",
    "# Anda dapat menumpuknya secara vertikal dengan vstack:\n",
    "print(np.vstack((a1, a2)))\n",
    "\n",
    "# Atau susun secara horizontal dengan hstack:\n",
    "print(np.hstack((a1, a2)))\n",
    "\n",
    "\n",
    "# Anda dapat menentukan jumlah array berbentuk sama yang akan dikembalikan atau kolom setelah pembagian\n",
    "# terjadi.\n",
    "x = np.arange(1, 25).reshape(2, 12)\n",
    "print(x)\n",
    "\n",
    "# Jika Anda ingin membagi array ini menjadi tiga array yang bentuknya sama, jalankan:\n",
    "print(np.hsplit(x, 3))\n",
    "\n",
    "# Jika Anda ingin membagi array setelah kolom ketiga dan keempat, jalankan:\n",
    "print(np.hsplit(x, (3, 4)))\n",
    "\n",
    "\n"
   ]
  },
  {
   "cell_type": "code",
   "execution_count": 68,
   "metadata": {},
   "outputs": [
    {
     "name": "stdout",
     "output_type": "stream",
     "text": [
      "[1 2 3 4]\n",
      "[99  2  3  4]\n",
      "[[99  2  3  4]\n",
      " [ 5  6  7  8]\n",
      " [ 9 10 11 12]]\n",
      "[[99  2  3  4]\n",
      " [ 5  6  7  8]\n",
      " [ 9 10 11 12]]\n"
     ]
    }
   ],
   "source": [
    "# Anda dapat menggunakan metode view untuk membuat objek array baru yang terlihat pada data yang sama\n",
    "# dengan array asli ( salinan dangkal).\n",
    "\n",
    "a = np.array([[1, 2, 3, 4], [5, 6, 7, 8], [9, 10, 11, 12]])\n",
    "\n",
    "# Sekarang kita membuat array b1 dengan mengiris a dan memodifikasi elemen pertama b1. Ini juga akan mengubah\n",
    "# elemen terkait di a !\n",
    "\n",
    "b1 = a[0, :]\n",
    "print(b1)\n",
    "\n",
    "b1[0] = 99\n",
    "print(b1)\n",
    "print(a)\n",
    "\n",
    "# Menggunakan metode copy akan membuat salinan lengkap dari array dan datanya ( salinan dalam). Untuk\n",
    "# menggunakan ini pada array Anda, Anda bisa menjalankan:\n",
    "\n",
    "b2 = a.copy()\n",
    "print(b2)"
   ]
  },
  {
   "cell_type": "code",
   "execution_count": 77,
   "metadata": {},
   "outputs": [
    {
     "name": "stdout",
     "output_type": "stream",
     "text": [
      "[2 3]\n",
      "[0 1]\n",
      "[1 4]\n",
      "[1. 1.]\n",
      "10\n",
      "[3 3]\n",
      "[2 4]\n"
     ]
    }
   ],
   "source": [
    "# Operasi array dasar\n",
    "# Bagian ini mencakup penjumlahan, pengurangan, perkalian, pembagian, dan lainnya\n",
    "\n",
    "# Anda dapat menambahkan array bersama dengan tanda plus.\n",
    "\n",
    "data = np.array([1, 2])\n",
    "ones = np.ones(2, dtype=int)\n",
    "print(data + ones)\n",
    "\n",
    "# Tentu saja, Anda dapat melakukan lebih dari sekadar penambahan!\n",
    "print(data-ones)\n",
    "\n",
    "print(data*data)\n",
    "\n",
    "print(data/data) \n",
    "\n",
    "# Pengoperasian dasar sederhana dengan NumPy. Jika Anda ingin mencari jumlah elemen dalam array, Anda akan\n",
    "# menggunakan sum(). Ini berfungsi untuk array 1D, array 2D, dan array dalam dimensi yang lebih tinggi.\n",
    "\n",
    "a = np.array([1, 2, 3, 4])\n",
    "print(a.sum())\n",
    "\n",
    "# Untuk menambahkan baris atau kolom dalam array 2D, Anda harus menentukan sumbunya.\n",
    "b = np.array([[1, 1], [2, 2]])\n",
    "\n",
    "# Anda dapat menjumlahkan sumbu baris dengan:\n",
    "print(b.sum(axis=0))\n",
    "\n",
    "# Anda dapat menjumlahkan sumbu kolom dengan:\n",
    "print(b.sum(axis=1))\n",
    "\n"
   ]
  },
  {
   "cell_type": "code",
   "execution_count": 78,
   "metadata": {},
   "outputs": [
    {
     "name": "stdout",
     "output_type": "stream",
     "text": [
      "[1.6 3.2]\n"
     ]
    }
   ],
   "source": [
    "# Penyiaran\n",
    "# Ada kalanya Anda mungkin ingin melakukan operasi antara array dan satu bilangan (disebut juga operasi antara vektor\n",
    "# dan skalar) atau antara array dengan dua ukuran berbeda. Misalnya, array Anda (kita akan sebut saja \"data\")\n",
    "# mungkin berisi informasi tentang jarak dalam mil tetapi Anda ingin mengonversi informasi tersebut menjadi kilometer.\n",
    "# Anda dapat melakukan operasi ini dengan:\n",
    "\n",
    "data = np.array([1.0, 2.0])\n",
    "print(data * 1.6)\n",
    "\n",
    "\n"
   ]
  },
  {
   "cell_type": "code",
   "execution_count": 82,
   "metadata": {},
   "outputs": [
    {
     "name": "stdout",
     "output_type": "stream",
     "text": [
      "2.0\n",
      "1.0\n",
      "3.0\n",
      "4.8595784\n",
      "0.05093587\n",
      "[0.54627315 0.82485143 0.40067661 0.56917101]\n"
     ]
    }
   ],
   "source": [
    "# Operasi array yang lebih berguna\n",
    "# Bagian ini mencakup maksimum, minimum, jumlah, mean, produk, deviasi standar, dan banyak lagi\n",
    "\n",
    "# min,max,sum\n",
    "print(data.max())\n",
    "\n",
    "print(data.min())\n",
    "\n",
    "print(data.sum())\n",
    "\n",
    "a = np.array([[0.45053314, 0.17296777, 0.34376245, 0.5510652],\n",
    "               [0.54627315, 0.05093587, 0.40067661, 0.55645993],\n",
    "               [0.12697628, 0.82485143, 0.26590556, 0.56917101]])\n",
    "\n",
    "# Sangat umum untuk ingin menggabungkan sepanjang baris atau kolom. Secara default, setiap fungsi\n",
    "# agregasi NumPy akan mengembalikan agregat seluruh array. Untuk menemukan jumlah atau jumlah\n",
    "# minimum elemen dalam array Anda, jalankan:\n",
    "\n",
    "print(a.sum())\n",
    "print(a.min())\n",
    "print(a.max(axis=0))"
   ]
  }
 ],
 "metadata": {
  "kernelspec": {
   "display_name": "Python 3",
   "language": "python",
   "name": "python3"
  },
  "language_info": {
   "codemirror_mode": {
    "name": "ipython",
    "version": 3
   },
   "file_extension": ".py",
   "mimetype": "text/x-python",
   "name": "python",
   "nbconvert_exporter": "python",
   "pygments_lexer": "ipython3",
   "version": "undefined.undefined.undefined"
  }
 },
 "nbformat": 4,
 "nbformat_minor": 2
}
